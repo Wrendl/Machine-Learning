{
 "cells": [
  {
   "cell_type": "code",
   "execution_count": 7,
   "metadata": {},
   "outputs": [],
   "source": [
    "def max_space(n):\n",
    "    n_bin = ''\n",
    "    maxi = 0\n",
    "    f = False\n",
    "    cnt = 0\n",
    "    while n>0:\n",
    "        if n%2==1:\n",
    "            f = True\n",
    "            maxi = max(maxi, cnt)\n",
    "            cnt = 0\n",
    "        elif f:\n",
    "           cnt += 1\n",
    "        n_bin = str(n%2)+n_bin\n",
    "        n//=2\n",
    "    print(maxi)\n",
    "    print(n_bin)"
   ]
  },
  {
   "cell_type": "code",
   "execution_count": 8,
   "metadata": {},
   "outputs": [
    {
     "name": "stdout",
     "output_type": "stream",
     "text": [
      "5\n",
      "10000010001\n"
     ]
    }
   ],
   "source": [
    "max_space(1041)"
   ]
  }
 ],
 "metadata": {
  "kernelspec": {
   "display_name": "Python 3",
   "language": "python",
   "name": "python3"
  },
  "language_info": {
   "codemirror_mode": {
    "name": "ipython",
    "version": 3
   },
   "file_extension": ".py",
   "mimetype": "text/x-python",
   "name": "python",
   "nbconvert_exporter": "python",
   "pygments_lexer": "ipython3",
   "version": "3.8.5"
  }
 },
 "nbformat": 4,
 "nbformat_minor": 4
}
