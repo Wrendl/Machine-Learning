{
 "cells": [
  {
   "cell_type": "markdown",
   "metadata": {},
   "source": [
    "# Ex-1"
   ]
  },
  {
   "cell_type": "code",
   "execution_count": 46,
   "metadata": {},
   "outputs": [],
   "source": [
    "def intersect(i,x,j,y):\n",
    "    right = i+x\n",
    "    left = j-y\n",
    "    \n",
    "    if right>left:\n",
    "        return True\n",
    "    return False"
   ]
  },
  {
   "cell_type": "code",
   "execution_count": 47,
   "metadata": {},
   "outputs": [
    {
     "name": "stdout",
     "output_type": "stream",
     "text": [
      "0 ind- 0 , rad- 1 , ind- 1 , rad- 5\n",
      "1 ind- 0 , rad- 1 , ind- 2 , rad- 2\n",
      "2 ind- 0 , rad- 1 , ind- 4 , rad- 4\n",
      "3 ind- 1 , rad- 5 , ind- 2 , rad- 2\n",
      "4 ind- 1 , rad- 5 , ind- 3 , rad- 1\n",
      "5 ind- 1 , rad- 5 , ind- 4 , rad- 4\n",
      "6 ind- 1 , rad- 5 , ind- 5 , rad- 0\n",
      "7 ind- 2 , rad- 2 , ind- 3 , rad- 1\n",
      "8 ind- 2 , rad- 2 , ind- 4 , rad- 4\n",
      "9 ind- 3 , rad- 1 , ind- 4 , rad- 4\n",
      "10 ind- 4 , rad- 4 , ind- 5 , rad- 0\n",
      "11\n"
     ]
    }
   ],
   "source": [
    "arr = [1,5,2,1,4,0]\n",
    "cnt = 0\n",
    "for i in range(len(arr)-1):\n",
    "    for j in range(i+1,len(arr)):\n",
    "        if intersect(i,arr[i],j,arr[j]):\n",
    "            print(cnt,'ind-',i,', rad-',arr[i],', ind-',j,', rad-',arr[j])\n",
    "            cnt+=1\n",
    "print(cnt)"
   ]
  },
  {
   "cell_type": "markdown",
   "metadata": {},
   "source": [
    "# Ex-2"
   ]
  },
  {
   "cell_type": "code",
   "execution_count": 48,
   "metadata": {},
   "outputs": [],
   "source": [
    "def one_left(arr):\n",
    "    d = {}\n",
    "    for i in arr:\n",
    "        if i not in d.keys():\n",
    "            d[ i ] = 1\n",
    "        elif d[ i ] == 1:\n",
    "            d[ i ] += 1\n",
    "    for i in d:\n",
    "        if d[i] == 1:\n",
    "            return i"
   ]
  },
  {
   "cell_type": "code",
   "execution_count": 49,
   "metadata": {},
   "outputs": [
    {
     "data": {
      "text/plain": [
       "7"
      ]
     },
     "execution_count": 49,
     "metadata": {},
     "output_type": "execute_result"
    }
   ],
   "source": [
    "arr = [9, 3, 9, 3, 9, 7, 9]\n",
    "one_left(arr)"
   ]
  },
  {
   "cell_type": "markdown",
   "metadata": {},
   "source": [
    "# Ex-3"
   ]
  },
  {
   "cell_type": "code",
   "execution_count": 50,
   "metadata": {},
   "outputs": [],
   "source": [
    "def fish(A, B):\n",
    "    cnt = 0\n",
    "    st = []\n",
    "    live = []\n",
    "    for i in range(len(B)):\n",
    "        if not B[i]:\n",
    "            if len(st) == 0:\n",
    "                live.append(i)\n",
    "            else:\n",
    "                while len(st):\n",
    "                    if A[st[-1]]<A[i]:\n",
    "                        st.pop()\n",
    "                    else:\n",
    "                        break\n",
    "                if len(st) == 0:\n",
    "                    live.append(i)\n",
    "        else:\n",
    "            st.append(i)\n",
    "    live += st\n",
    "    print(live)\n",
    "    return len(live)"
   ]
  },
  {
   "cell_type": "code",
   "execution_count": 51,
   "metadata": {},
   "outputs": [
    {
     "name": "stdout",
     "output_type": "stream",
     "text": [
      "[0, 4]\n",
      "2\n"
     ]
    }
   ],
   "source": [
    "A = [4,3,2,1,5]\n",
    "B = [0,1,0,0,0]\n",
    "print(fish(A, B))"
   ]
  }
 ],
 "metadata": {
  "kernelspec": {
   "display_name": "Python 3",
   "language": "python",
   "name": "python3"
  },
  "language_info": {
   "codemirror_mode": {
    "name": "ipython",
    "version": 3
   },
   "file_extension": ".py",
   "mimetype": "text/x-python",
   "name": "python",
   "nbconvert_exporter": "python",
   "pygments_lexer": "ipython3",
   "version": "3.8.5"
  }
 },
 "nbformat": 4,
 "nbformat_minor": 4
}
